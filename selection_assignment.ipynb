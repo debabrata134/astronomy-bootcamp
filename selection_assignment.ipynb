{
 "cells": [
  {
   "cell_type": "markdown",
   "id": "4aa95fcc",
   "metadata": {},
   "source": [
    "# Question 1 : Visualizing Pleiades cluster"
   ]
  },
  {
   "cell_type": "code",
   "execution_count": 24,
   "id": "d3b32dc3",
   "metadata": {},
   "outputs": [],
   "source": [
    "import numpy as np\n",
    "import pandas as pd\n",
    "import matplotlib.pyplot as plt"
   ]
  },
  {
   "cell_type": "code",
   "execution_count": 25,
   "id": "1d7c9181",
   "metadata": {},
   "outputs": [],
   "source": [
    "stardata=pd.read_csv('stardata.csv',header=None,sep=',')      # reading the csv file and converting it to a DataFrame"
   ]
  },
  {
   "cell_type": "code",
   "execution_count": 26,
   "id": "81adbfee",
   "metadata": {},
   "outputs": [
    {
     "data": {
      "text/html": [
       "<div>\n",
       "<style scoped>\n",
       "    .dataframe tbody tr th:only-of-type {\n",
       "        vertical-align: middle;\n",
       "    }\n",
       "\n",
       "    .dataframe tbody tr th {\n",
       "        vertical-align: top;\n",
       "    }\n",
       "\n",
       "    .dataframe thead th {\n",
       "        text-align: right;\n",
       "    }\n",
       "</style>\n",
       "<table border=\"1\" class=\"dataframe\">\n",
       "  <thead>\n",
       "    <tr style=\"text-align: right;\">\n",
       "      <th></th>\n",
       "      <th>0</th>\n",
       "      <th>1</th>\n",
       "      <th>2</th>\n",
       "      <th>3</th>\n",
       "    </tr>\n",
       "  </thead>\n",
       "  <tbody>\n",
       "    <tr>\n",
       "      <th>0</th>\n",
       "      <td>56.566774</td>\n",
       "      <td>24.189735</td>\n",
       "      <td>7.3935352662039655</td>\n",
       "      <td>8.208464</td>\n",
       "    </tr>\n",
       "    <tr>\n",
       "      <th>1</th>\n",
       "      <td>56.557355</td>\n",
       "      <td>24.196560</td>\n",
       "      <td>7.545834754428319</td>\n",
       "      <td>7.323018</td>\n",
       "    </tr>\n",
       "    <tr>\n",
       "      <th>2</th>\n",
       "      <td>56.613757</td>\n",
       "      <td>24.254807</td>\n",
       "      <td>7.21777120370273</td>\n",
       "      <td>7.339084</td>\n",
       "    </tr>\n",
       "    <tr>\n",
       "      <th>3</th>\n",
       "      <td>56.642808</td>\n",
       "      <td>24.138091</td>\n",
       "      <td>3.5113645931028596</td>\n",
       "      <td>11.468399</td>\n",
       "    </tr>\n",
       "    <tr>\n",
       "      <th>4</th>\n",
       "      <td>56.663986</td>\n",
       "      <td>24.103001</td>\n",
       "      <td>7.418396935580117</td>\n",
       "      <td>9.191837</td>\n",
       "    </tr>\n",
       "  </tbody>\n",
       "</table>\n",
       "</div>"
      ],
      "text/plain": [
       "           0          1                   2          3\n",
       "0  56.566774  24.189735  7.3935352662039655   8.208464\n",
       "1  56.557355  24.196560   7.545834754428319   7.323018\n",
       "2  56.613757  24.254807    7.21777120370273   7.339084\n",
       "3  56.642808  24.138091  3.5113645931028596  11.468399\n",
       "4  56.663986  24.103001   7.418396935580117   9.191837"
      ]
     },
     "execution_count": 26,
     "metadata": {},
     "output_type": "execute_result"
    }
   ],
   "source": [
    "stardata.head()"
   ]
  },
  {
   "cell_type": "code",
   "execution_count": 27,
   "id": "f0b6fde1",
   "metadata": {},
   "outputs": [],
   "source": [
    "# if the dataframe contains some non numeric value then we remove the corresponding row \n",
    "# and reset the index\n",
    "cleaned_stardata=stardata[pd.to_numeric(stardata[2],errors='coerce').notnull()].reset_index() "
   ]
  },
  {
   "cell_type": "code",
   "execution_count": 28,
   "id": "68762124",
   "metadata": {},
   "outputs": [
    {
     "data": {
      "text/plain": [
       "RangeIndex(start=0, stop=200, step=1)"
      ]
     },
     "execution_count": 28,
     "metadata": {},
     "output_type": "execute_result"
    }
   ],
   "source": [
    "#see the difference between the index \n",
    "stardata.index"
   ]
  },
  {
   "cell_type": "code",
   "execution_count": 29,
   "id": "932af7db",
   "metadata": {},
   "outputs": [
    {
     "data": {
      "text/plain": [
       "RangeIndex(start=0, stop=196, step=1)"
      ]
     },
     "execution_count": 29,
     "metadata": {},
     "output_type": "execute_result"
    }
   ],
   "source": [
    "cleaned_stardata.index"
   ]
  },
  {
   "cell_type": "code",
   "execution_count": 30,
   "id": "e5144ad5",
   "metadata": {},
   "outputs": [
    {
     "data": {
      "text/plain": [
       "[135.25329412723912,\n",
       " 132.52344273947213,\n",
       " 138.54692422045716,\n",
       " 284.7895664164962,\n",
       " 134.80001254769743,\n",
       " 2229.7263153044973,\n",
       " 297.5314082998898,\n",
       " 129.7220933800577,\n",
       " 134.56106276999006,\n",
       " 267.87604308303963,\n",
       " 910.4807292955288,\n",
       " 389.6744011418855,\n",
       " 136.03845763688184,\n",
       " 128.81972862530256,\n",
       " 873.6199894656345,\n",
       " 136.60667929213753,\n",
       " 138.38866546523184,\n",
       " 105.5079345272796,\n",
       " 93.95698583947186,\n",
       " 2832.144518118237,\n",
       " 133.27990346911295,\n",
       " 136.10870599760952,\n",
       " 103.4906955102069,\n",
       " 381.98372540549735,\n",
       " 134.3191903271106,\n",
       " 135.62135086481115,\n",
       " 607.0724930662066,\n",
       " 315.88825022341786,\n",
       " 105.50588386599782,\n",
       " 135.68659310665336,\n",
       " 1054.4244017863682,\n",
       " 848.4248456928432,\n",
       " 139.54729353780237,\n",
       " 125.48877655759156,\n",
       " 1701.489021834922,\n",
       " 135.42009077234874,\n",
       " 136.76908953869977,\n",
       " 1285.6729598566976,\n",
       " 550.2020226551233,\n",
       " 360.6459277253528,\n",
       " 124.94699747831366,\n",
       " 463.01103358699004,\n",
       " 134.49103555861302,\n",
       " 1172.1879992057468,\n",
       " 136.67526868884744,\n",
       " 136.1406111896626,\n",
       " 176.50639926764183,\n",
       " 2057.7650453655187,\n",
       " 141.6473460219328,\n",
       " 639.246879693171,\n",
       " 2350.747933694789,\n",
       " 626.8546292858531,\n",
       " 1227.5656986629756,\n",
       " 114.88899213651672,\n",
       " 1388.8630299821523,\n",
       " 137.30514600107077,\n",
       " 138.96976090217873,\n",
       " 139.2666440652755,\n",
       " 3830.4253100440087,\n",
       " 132.17336468557698,\n",
       " 132.91883258985442,\n",
       " 154.5065563386885,\n",
       " 111.49445605707628,\n",
       " 135.18931009989797,\n",
       " 1243.713208159648,\n",
       " 170.75064601555982,\n",
       " 2657.7135756388984,\n",
       " 963.3760002569431,\n",
       " 134.72044289591713,\n",
       " 135.13748779301974,\n",
       " 132.8369612227162,\n",
       " 134.85471938351705,\n",
       " 98.66305087530985,\n",
       " 541.1875811147431,\n",
       " 143.00565926307624,\n",
       " 1861.581099422825,\n",
       " 1436.206346767734,\n",
       " 150.7037469429217,\n",
       " 139.15457731493018,\n",
       " 127.70441300969672,\n",
       " 140.3093114844787,\n",
       " 157.08393794321265,\n",
       " 132.11947536938064,\n",
       " 2362.237009846981,\n",
       " 1491.4331254364088,\n",
       " 830.9856574361402,\n",
       " 138.7337510812607,\n",
       " 137.35260605327045,\n",
       " 491.6774994654802,\n",
       " 136.11125540016127,\n",
       " 1931.6099861874343,\n",
       " 606.8726322849835,\n",
       " 1331.9581767380528,\n",
       " 135.51451348990074,\n",
       " 125.74992312854839,\n",
       " 313.6579437907211,\n",
       " 1777.676331210622,\n",
       " 210.70347140767493,\n",
       " 127.54600646483556,\n",
       " 143.8932776843661,\n",
       " 139.40694904159082,\n",
       " 256.18931839680846,\n",
       " 1295.3677741016654,\n",
       " 330.4232351447948,\n",
       " 66.82543634685847,\n",
       " 412.7509405885442,\n",
       " 479.4710905991417,\n",
       " 132.83190439878862,\n",
       " 142.10488395086827,\n",
       " 136.58748397423713,\n",
       " 136.11093596248142,\n",
       " 1757.8769359816567,\n",
       " 190.7909492502416,\n",
       " 729.6062463966651,\n",
       " 97.45970828641573,\n",
       " 131.51624658775538,\n",
       " 360.01995769860827,\n",
       " 143.53519581643368,\n",
       " 2760.258378028502,\n",
       " 516.4360915539033,\n",
       " 131.4936319474047,\n",
       " 304.1855786674406,\n",
       " 139.8902707611011,\n",
       " 648.4838871306305,\n",
       " 136.06320526981597,\n",
       " 464.72606693728693,\n",
       " 131.1713016657111,\n",
       " 135.01560408949695,\n",
       " 331.46587767088914,\n",
       " 1059.6492840085634,\n",
       " 292.48256767306617,\n",
       " 136.14069821843734,\n",
       " 4978.341241521712,\n",
       " 135.5375763453256,\n",
       " 246.43009815856274,\n",
       " 840.8413136915063,\n",
       " 320.8448962327334,\n",
       " 134.94239998492452,\n",
       " 1531.4328402391957,\n",
       " 138.38085514793323,\n",
       " 135.3968074957406,\n",
       " 272.2224847922676,\n",
       " 129.4842803451368,\n",
       " 798.9369985671077,\n",
       " 118.63471255041601,\n",
       " 1345.9666342018636,\n",
       " 134.80473019413014,\n",
       " 191.96148192180095,\n",
       " 525.7958809573497,\n",
       " 917.3805964368782,\n",
       " 922.362172883252,\n",
       " 409.1191680377106,\n",
       " 2296.979644302995,\n",
       " 139.8880214099379,\n",
       " 1246.2338655466826,\n",
       " 214.07095788174252,\n",
       " 795.5998602587648,\n",
       " 86.41161197570916,\n",
       " 326.43419254997553,\n",
       " 269.13275312076655,\n",
       " 143.53982909513917,\n",
       " 1474.3487991300997,\n",
       " 254.04548935427923,\n",
       " 135.95891694341748,\n",
       " 398.05791378907514,\n",
       " 136.23098630029224,\n",
       " 544.5619689662095,\n",
       " 142.03849537245736,\n",
       " 203.5110743254641,\n",
       " 681.0746484675335,\n",
       " 3894.871009918748,\n",
       " 213.1106074625972,\n",
       " 138.48650661674876,\n",
       " 140.92671590239192,\n",
       " 700.630314045741,\n",
       " 5168.146669515975,\n",
       " 134.2548133189711,\n",
       " 289.40405579287756,\n",
       " 140.47841374716043,\n",
       " 134.0391328297008,\n",
       " 358.7527771318813,\n",
       " 137.35700542664682,\n",
       " 181.5781802642551,\n",
       " 929.8400578327534,\n",
       " 195.26732794082304,\n",
       " 275.61396189773046,\n",
       " 134.97746316445597,\n",
       " 215.9520461276708,\n",
       " 313.1195542064506,\n",
       " 507.1725948613546,\n",
       " 135.77730188115677,\n",
       " 139.17922213896392,\n",
       " 1366.4483820245632,\n",
       " 138.7139534992447,\n",
       " 307.9337393618507,\n",
       " 3201.540049951238]"
      ]
     },
     "execution_count": 30,
     "metadata": {},
     "output_type": "execute_result"
    }
   ],
   "source": [
    "# calculating the distances in persec of each star\n",
    "distances = []\n",
    "for i in range (len(cleaned_stardata)):\n",
    "    distances.append(1000/float(cleaned_stardata[2][i]))\n",
    "distances"
   ]
  },
  {
   "cell_type": "code",
   "execution_count": 33,
   "id": "41ded248",
   "metadata": {},
   "outputs": [
    {
     "data": {
      "text/plain": [
       "0      2.552725\n",
       "1      1.711554\n",
       "2      1.631100\n",
       "3      4.195779\n",
       "4      3.543387\n",
       "         ...   \n",
       "191    5.133452\n",
       "192    1.025148\n",
       "193    4.709978\n",
       "194    4.107103\n",
       "195   -0.663497\n",
       "Name: 3, Length: 196, dtype: float64"
      ]
     },
     "execution_count": 33,
     "metadata": {},
     "output_type": "execute_result"
    }
   ],
   "source": [
    "# calculating the absolute magnitudes\n",
    "abs_mag = cleaned_stardata[3]-5*np.log10(distances)+5\n",
    "abs_mag"
   ]
  },
  {
   "cell_type": "code",
   "execution_count": 90,
   "id": "e00e723d",
   "metadata": {},
   "outputs": [
    {
     "data": {
      "image/png": "[encoded data removed]",
      "text/plain": [
       "<Figure size 432x288 with 1 Axes>"
      ]
     },
     "metadata": {
      "needs_background": "light"
     },
     "output_type": "display_data"
    }
   ],
   "source": [
    "# plotting the histogram\n",
    "\n",
    "plt.hist(abs_mag,bins=50,color='r')\n",
    "plt.xlabel(\"absolute magnitude\")\n",
    "plt.ylabel(\"No of Stars\")\n",
    "plt.title(\"Histogram plot\")\n",
    "plt.show()"
   ]
  },
  {
   "cell_type": "code",
   "execution_count": 42,
   "id": "91ab86a5",
   "metadata": {},
   "outputs": [
    {
     "data": {
      "image/png": "[encoded data removed]",
      "text/plain": [
       "<Figure size 432x288 with 1 Axes>"
      ]
     },
     "metadata": {
      "needs_background": "light"
     },
     "output_type": "display_data"
    }
   ],
   "source": [
    "# scatter plot\n",
    "RA=cleaned_stardata[0]\n",
    "declination=cleaned_stardata[1]\n",
    "plt.scatter(RA,declination)\n",
    "plt.xlabel(\"RA(in degree)\")\n",
    "plt.ylabel(\"declination(in deg)\")\n",
    "plt.title(\"Scatter plot\")\n",
    "plt.show()"
   ]
  },
  {
   "cell_type": "code",
   "execution_count": 44,
   "id": "a45c83f6",
   "metadata": {},
   "outputs": [
    {
     "data": {
      "image/png": "[encoded data removed]",
      "text/plain": [
       "<Figure size 432x288 with 1 Axes>"
      ]
     },
     "metadata": {
      "needs_background": "light"
     },
     "output_type": "display_data"
    }
   ],
   "source": [
    "#plotting for different size\n",
    "size=12-cleaned_stardata[3]\n",
    "for i in range(len(cleaned_stardata)):\n",
    "    plt.scatter(RA[i],declination[i],s=10*size[i])\n",
    "plt.xlabel(\"RA(in degree)\")\n",
    "plt.ylabel(\"declination(in deg)\")\n",
    "plt.title(\"Scatter plot for different size\")\n",
    "plt.show()"
   ]
  },
  {
   "cell_type": "markdown",
   "id": "ebf7c0b8",
   "metadata": {},
   "source": [
    "\n",
    "\n",
    "# Question 2 : Estimating Age of Universe using Hubble's Law"
   ]
  },
  {
   "cell_type": "code",
   "execution_count": 45,
   "id": "a168f7e5",
   "metadata": {},
   "outputs": [],
   "source": [
    "import numpy as np\n",
    "from scipy.optimize import curve_fit as cf\n",
    "import matplotlib.pyplot as plt"
   ]
  },
  {
   "cell_type": "code",
   "execution_count": 50,
   "id": "67b95964",
   "metadata": {},
   "outputs": [],
   "source": [
    "with open('data.txt','r') as f:\n",
    "    a=f.read().split('\\n')            # reading the data file"
   ]
  },
  {
   "cell_type": "code",
   "execution_count": 52,
   "id": "ffd8b449",
   "metadata": {},
   "outputs": [],
   "source": [
    "del a[0]   # deleting the 1st line as it contains non numeric values"
   ]
  },
  {
   "cell_type": "code",
   "execution_count": 58,
   "id": "2bd175b4",
   "metadata": {},
   "outputs": [],
   "source": [
    "data=[]   #splitting the lines according to commas, now you have a nested list with distance modulus and sight velocity\n",
    "for line in a:\n",
    "    data.append(line.split(','))"
   ]
  },
  {
   "cell_type": "code",
   "execution_count": 69,
   "id": "4ef28bc9",
   "metadata": {},
   "outputs": [],
   "source": [
    "dist_mod=[]\n",
    "sight_vel=[]\n",
    "for i in range (len(data)):\n",
    "    dist_mod.append(float(data[i][0]))\n",
    "    sight_vel.append(float(data[i][1]))"
   ]
  },
  {
   "cell_type": "code",
   "execution_count": 70,
   "id": "8cac87b4",
   "metadata": {},
   "outputs": [],
   "source": [
    "dm=np.array(dist_mod)  # converting list to an array\n",
    "sv=np.array(sight_vel)"
   ]
  },
  {
   "cell_type": "code",
   "execution_count": 77,
   "id": "ff635641",
   "metadata": {},
   "outputs": [],
   "source": [
    "d=10**(dm/5-5) # calculating the distances in megaparsecs"
   ]
  },
  {
   "cell_type": "code",
   "execution_count": 78,
   "id": "439e0f62",
   "metadata": {},
   "outputs": [
    {
     "data": {
      "text/plain": [
       "array([213.79620895, 287.0780582 ,  56.23413252, ..., 162.92960326,\n",
       "       155.59656316,  98.1747943 ])"
      ]
     },
     "execution_count": 78,
     "metadata": {},
     "output_type": "execute_result"
    }
   ],
   "source": [
    "d"
   ]
  },
  {
   "cell_type": "code",
   "execution_count": 88,
   "id": "536d5cbc",
   "metadata": {},
   "outputs": [
    {
     "data": {
      "image/png": "[encoded data removed]",
      "text/plain": [
       "<Figure size 432x288 with 1 Axes>"
      ]
     },
     "metadata": {
      "needs_background": "light"
     },
     "output_type": "display_data"
    }
   ],
   "source": [
    "# defining the function \n",
    "def lin_func(x,m,c):\n",
    "    return m*x + c\n",
    "\n",
    "# Now we need to get the best fit parameters and the respective errors using curve_fit\n",
    "\n",
    "p_opt, p_cov = cf(lin_func,d,sv)\n",
    "# p_opt is the array that contains optimized values of the parameters, whereas p_cov is the covariance matrix.\n",
    "\n",
    "# Now plot the best fit along with the original data to see if we have a good match\n",
    "\n",
    "plt.plot(d,lin_func(d,*p_opt),label='Best Fit',color='g')\n",
    "# * before a separable object unpacks it. So you don't need to write lin_func(xdata,p_opt[0],p_opt[1]). The *\n",
    "# does it for you.\n",
    "plt.scatter(d,sv,label='given_Data',s=10,color='darkorange')\n",
    "\n",
    "plt.xlabel('distance modulus(in MPc)')\n",
    "plt.ylabel('recession velocity(in km/s)')\n",
    "plt.title('Linear Fit')\n",
    "plt.legend()\n",
    "plt.show()"
   ]
  },
  {
   "cell_type": "code",
   "execution_count": 85,
   "id": "d222d280",
   "metadata": {},
   "outputs": [
    {
     "data": {
      "text/plain": [
       "15574718656.701183"
      ]
     },
     "execution_count": 85,
     "metadata": {},
     "output_type": "execute_result"
    }
   ],
   "source": [
    "# slope of the curve \n",
    "m=p_opt[0]\n",
    "\n",
    "# Estimating the age of the universe in years\n",
    "age=(1/m)*((3.09/3.15)*10**12)      # 1 Mpc = 3.09*10**19 km and 1 year = 3.15*10**7 sec\n",
    "age"
   ]
  }
 ],
 "metadata": {
  "kernelspec": {
   "display_name": "Python 3 (ipykernel)",
   "language": "python",
   "name": "python3"
  },
  "language_info": {
   "codemirror_mode": {
    "name": "ipython",
    "version": 3
   },
   "file_extension": ".py",
   "mimetype": "text/x-python",
   "name": "python",
   "nbconvert_exporter": "python",
   "pygments_lexer": "ipython3",
   "version": "3.9.12"
  }
 },
 "nbformat": 4,
 "nbformat_minor": 5
}
